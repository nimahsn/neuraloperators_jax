{
 "cells": [
  {
   "cell_type": "code",
   "execution_count": 1,
   "metadata": {},
   "outputs": [],
   "source": [
    "import jax\n",
    "import jax.numpy as jnp\n",
    "import equinox as eqx\n",
    "import optax\n",
    "import matplotlib.pyplot as plt\n",
    "from modules.fourier import FNO, FNOBlock1d, SpectraclConv1d\n",
    "from data.utils import TimeWindowDataset, NumpyLoader\n",
    "from training.train import fit_plain, TRAIN_LOSS_KEY, VAL_LOSS_KEY"
   ]
  },
  {
   "cell_type": "code",
   "execution_count": 2,
   "metadata": {},
   "outputs": [],
   "source": [
    "dataset_train = TimeWindowDataset(\"./data/dump/KdV_train_512.h5\", 140, 256, 20, 20, \"train\", True)\n",
    "dataset_val = TimeWindowDataset(\"./data/dump/KdV_valid.h5\", 140, 256, 20, 20, \"valid\", True)\n",
    "loader_train = NumpyLoader(dataset_train, batch_size=32, shuffle=True)\n",
    "loader_val = NumpyLoader(dataset_val, batch_size=32, shuffle=False)"
   ]
  },
  {
   "cell_type": "code",
   "execution_count": 3,
   "metadata": {},
   "outputs": [],
   "source": [
    "key = jax.random.PRNGKey(42)\n",
    "key_proj_in, key_blocks, key_proj_out = jax.random.split(key, 3)\n",
    "\n",
    "keys_pin = jax.random.split(key_proj_in, 2)\n",
    "projection_input = eqx.nn.Sequential([\n",
    "    eqx.nn.Conv1d(20, 128, 1, 1, \"same\", key=keys_pin[0]),\n",
    "    eqx.nn.Conv1d(128, 128, 1, 1, \"same\", key=keys_pin[1]),\n",
    "])\n",
    "\n",
    "keys_blocks = jax.random.split(key_blocks, 5)\n",
    "fourier_blocks = eqx.nn.Sequential([\n",
    "    FNOBlock1d(128, 128, 32, jax.nn.gelu, key=key) for key in keys_blocks])\n",
    "\n",
    "keys_pout = jax.random.split(key_proj_out, 2)\n",
    "projection_output = eqx.nn.Sequential([\n",
    "    eqx.nn.Conv1d(128, 128, 1, 1, \"same\", key=keys_pout[0]),\n",
    "    eqx.nn.Conv1d(128, 20, 1, 1, \"same\", key=keys_pout[1]),\n",
    "])\n",
    "\n",
    "model = FNO(20, 20, fourier_blocks, projection_input, projection_output)"
   ]
  },
  {
   "cell_type": "code",
   "execution_count": 4,
   "metadata": {},
   "outputs": [],
   "source": [
    "def MSE_LOSS(model, inputs, outputs):\n",
    "    preds = eqx.filter_vmap(model)(inputs)\n",
    "    loss = jnp.mean((preds - outputs)**2)\n",
    "    return loss\n",
    "\n",
    "def NMSE_LOSS(model, inputs, outputs):\n",
    "    # Normalized MSE\n",
    "    preds = eqx.filter_vmap(model)(inputs)\n",
    "    loss = (preds - outputs) ** 2 / outputs ** 2\n",
    "    loss = jnp.mean(loss)    \n",
    "    return loss"
   ]
  },
  {
   "cell_type": "code",
   "execution_count": 5,
   "metadata": {},
   "outputs": [],
   "source": [
    "lr_scheduler = optax.schedules.exponential_decay(1e-3, 1000, 0.95)\n",
    "optimizer = optax.adam(lr_scheduler)"
   ]
  },
  {
   "cell_type": "code",
   "execution_count": null,
   "metadata": {},
   "outputs": [],
   "source": [
    "model, opt_tate, history = fit_plain(model, loader_train, NMSE_LOSS, optimizer, 20, loader_val, print_every=200)"
   ]
  },
  {
   "cell_type": "code",
   "execution_count": null,
   "metadata": {},
   "outputs": [],
   "source": [
    "plt.plot(history[TRAIN_LOSS_KEY], label=\"train\")\n",
    "plt.plot(history[VAL_LOSS_KEY], label=\"val\")\n",
    "plt.legend()\n",
    "# log scale\n",
    "plt.yscale(\"log\")"
   ]
  }
 ],
 "metadata": {
  "kernelspec": {
   "display_name": "jax",
   "language": "python",
   "name": "python3"
  },
  "language_info": {
   "codemirror_mode": {
    "name": "ipython",
    "version": 3
   },
   "file_extension": ".py",
   "mimetype": "text/x-python",
   "name": "python",
   "nbconvert_exporter": "python",
   "pygments_lexer": "ipython3",
   "version": "3.12.3"
  }
 },
 "nbformat": 4,
 "nbformat_minor": 2
}
