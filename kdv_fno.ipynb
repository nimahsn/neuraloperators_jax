{
 "cells": [
  {
   "cell_type": "code",
   "execution_count": 1,
   "metadata": {},
   "outputs": [],
   "source": [
    "import jax\n",
    "import jax.numpy as jnp\n",
    "import equinox as eqx\n",
    "import optax\n",
    "import matplotlib.pyplot as plt\n",
    "from modules.fourier import FNO, FNOBlock1d, SpectraclConv1d\n",
    "from data.utils import TimeWindowDataset, NumpyLoader\n",
    "from training.train import fit_plain, TRAIN_LOSS_KEY, VAL_LOSS_KEY"
   ]
  },
  {
   "cell_type": "code",
   "execution_count": 2,
   "metadata": {},
   "outputs": [],
   "source": [
    "dataset_train = TimeWindowDataset(\"./data/dump/KdV_train_512.h5\", 140, 256, 10, 10, \"train\", True)\n",
    "dataset_val = TimeWindowDataset(\"./data/dump/KdV_valid.h5\", 140, 256, 10, 10, \"valid\", True)\n",
    "loader_train = NumpyLoader(dataset_train, batch_size=16, shuffle=True)\n",
    "loader_val = NumpyLoader(dataset_val, batch_size=32, shuffle=False)"
   ]
  },
  {
   "cell_type": "code",
   "execution_count": 3,
   "metadata": {},
   "outputs": [],
   "source": [
    "key = jax.random.PRNGKey(42)\n",
    "key_proj_in, key_blocks, key_proj_out = jax.random.split(key, 3)\n",
    "\n",
    "keys_pin = jax.random.split(key_proj_in, 2)\n",
    "projection_input = eqx.nn.Sequential([\n",
    "    eqx.nn.Conv1d(10, 64, 1, 1, \"same\", key=keys_pin[0]),\n",
    "    eqx.nn.Conv1d(64, 64, 1, 1, \"same\", key=keys_pin[1]),\n",
    "])\n",
    "\n",
    "keys_blocks = jax.random.split(key_blocks, 4)\n",
    "fourier_blocks = eqx.nn.Sequential([\n",
    "    FNOBlock1d(64, 64, 16, jax.nn.gelu, key=key) for key in keys_blocks])\n",
    "\n",
    "keys_pout = jax.random.split(key_proj_out, 2)\n",
    "projection_output = eqx.nn.Sequential([\n",
    "    eqx.nn.Conv1d(64, 64, 1, 1, \"same\", key=keys_pout[0]),\n",
    "    eqx.nn.Conv1d(64, 10, 1, 1, \"same\", key=keys_pout[1]),\n",
    "])\n",
    "\n",
    "model = FNO(10, 10, fourier_blocks, projection_input, projection_output)"
   ]
  },
  {
   "cell_type": "code",
   "execution_count": 4,
   "metadata": {},
   "outputs": [],
   "source": [
    "def loss_fn(model, inputs, outputs):\n",
    "    preds = eqx.filter_vmap(model)(inputs)\n",
    "    loss = jnp.mean((preds - outputs)**2)\n",
    "    return loss"
   ]
  },
  {
   "cell_type": "code",
   "execution_count": 5,
   "metadata": {},
   "outputs": [],
   "source": [
    "lr_scheduler = optax.schedules.exponential_decay(1e-3, 1000, 0.95)\n",
    "optimizer = optax.adam(lr_scheduler)"
   ]
  },
  {
   "cell_type": "code",
   "execution_count": 6,
   "metadata": {},
   "outputs": [
    {
     "name": "stdout",
     "output_type": "stream",
     "text": [
      "Epoch 0, step 0, loss: 0.42436572909355164\n",
      "Epoch 0, step 200, loss: 0.01321825385093689\n",
      "Epoch 0, step 400, loss: 0.00363359646871686\n",
      "Epoch 0, step 600, loss: 0.0023752169217914343\n",
      "Epoch 0, step 800, loss: 0.0008829644066281617\n",
      "Epoch 0, step 1000, loss: 0.0021984167397022247\n",
      "Epoch 0, step 1200, loss: 0.0008515235967934132\n",
      "Epoch 0, step 1400, loss: 0.0006207986734807491\n",
      "Epoch 0, step 1600, loss: 0.0005138018168509007\n",
      "Epoch 0, step 1800, loss: 0.0013995023909956217\n",
      "Epoch 0, step 2000, loss: 0.000327286368701607\n",
      "Epoch 0, step 2200, loss: 0.0004051524156238884\n",
      "Epoch 0, step 2400, loss: 0.0010465913219377398\n",
      "Epoch 0, step 2600, loss: 0.00122267531696707\n",
      "Epoch 0, step 2800, loss: 0.0007978844805620611\n",
      "Epoch 0, step 3000, loss: 0.0004257399996276945\n",
      "Epoch 0, step 3200, loss: 0.0001514315663371235\n",
      "Epoch 0, step 3400, loss: 0.00028852210380136967\n",
      "Epoch 0, step 3600, loss: 0.0007204374414868653\n",
      "Epoch 0, step 3800, loss: 0.00023658228747081012\n",
      "Validation loss: 0.0008646697970107198\n",
      "Epoch 1, step 0, loss: 0.00044580409303307533\n",
      "Epoch 1, step 200, loss: 0.00045163609320297837\n",
      "Epoch 1, step 400, loss: 0.00015376588271465153\n",
      "Epoch 1, step 600, loss: 0.0006168302497826517\n",
      "Epoch 1, step 800, loss: 7.214210199890658e-05\n",
      "Epoch 1, step 1000, loss: 0.00012885888281743973\n",
      "Epoch 1, step 1200, loss: 0.0004634021897800267\n",
      "Epoch 1, step 1400, loss: 0.00045555635006166995\n",
      "Epoch 1, step 1600, loss: 0.0004080849757883698\n",
      "Epoch 1, step 1800, loss: 0.0012897420674562454\n",
      "Epoch 1, step 2000, loss: 0.0016051616985350847\n",
      "Epoch 1, step 2200, loss: 0.00036963087040930986\n",
      "Epoch 1, step 2400, loss: 9.53781564021483e-05\n",
      "Epoch 1, step 2600, loss: 0.000408256339142099\n",
      "Epoch 1, step 2800, loss: 6.355848017847165e-05\n",
      "Epoch 1, step 3000, loss: 0.0005799764185212553\n",
      "Epoch 1, step 3200, loss: 0.0003486283530946821\n",
      "Epoch 1, step 3400, loss: 0.0009505534544587135\n",
      "Epoch 1, step 3600, loss: 0.0015328418230637908\n",
      "Epoch 1, step 3800, loss: 0.000181584560777992\n",
      "Validation loss: 0.0007770927040837705\n"
     ]
    }
   ],
   "source": [
    "model, opt_tate, history = fit_plain(model, loader_train, loss_fn, optimizer, 2, loader_val, print_every=200)"
   ]
  },
  {
   "cell_type": "code",
   "execution_count": null,
   "metadata": {},
   "outputs": [],
   "source": []
  }
 ],
 "metadata": {
  "kernelspec": {
   "display_name": "jax",
   "language": "python",
   "name": "python3"
  },
  "language_info": {
   "codemirror_mode": {
    "name": "ipython",
    "version": 3
   },
   "file_extension": ".py",
   "mimetype": "text/x-python",
   "name": "python",
   "nbconvert_exporter": "python",
   "pygments_lexer": "ipython3",
   "version": "3.12.3"
  }
 },
 "nbformat": 4,
 "nbformat_minor": 2
}
