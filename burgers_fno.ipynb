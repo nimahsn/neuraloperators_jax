{
 "cells": [
  {
   "cell_type": "code",
   "execution_count": 1,
   "metadata": {},
   "outputs": [],
   "source": [
    "import jax\n",
    "import optax\n",
    "import equinox as eqx\n",
    "from data.utils import MatDataset, load_mat_data, jax_collate\n",
    "from torch.utils.data import DataLoader, Dataset\n",
    "import matplotlib.pyplot as plt\n",
    "import numpy as np\n",
    "from functools import partial\n",
    "import jax.numpy as jnp\n",
    "\n",
    "from modules.fourier import FNO, FNOBlock1d, SpectraclConv1d"
   ]
  },
  {
   "cell_type": "code",
   "execution_count": 2,
   "metadata": {},
   "outputs": [],
   "source": [
    "class BurgersDataset(Dataset):\n",
    "\n",
    "    def __init__(self, path, input_steps: int, future_steps: int, key: jax.random.PRNGKey):\n",
    "        self.data = load_mat_data(path)\n",
    "        self.tspan = self.data['tspan']\n",
    "        self.data['output'][:, 0, :] = self.data['input']\n",
    "        self.data = self.data['output']\n",
    "        self.key = key\n",
    "        self.input_steps = input_steps\n",
    "        self.future_steps = future_steps\n",
    "        self.x = np.linspace(0, 1, 1024, endpoint=True).reshape(1, -1)\n",
    "\n",
    "    def __len__(self):\n",
    "        return self.data.shape[0] * (self.data.shape[1] - self.future_steps - self.input_steps)\n",
    "    \n",
    "    def __getitem__(self, idx):\n",
    "        i = idx // (self.data.shape[1] - self.future_steps - self.input_steps)\n",
    "        j = idx % (self.data.shape[1] - self.future_steps - self.input_steps)\n",
    "        # return np.concatenate([self.data[i, j:j+self.input_steps], self.x], axis=0), self.data[i, j+self.input_steps:j+self.input_steps+self.future_steps]\n",
    "        # return {'input': self.data[i, j:j+self.input_steps], 'x': self.x, 'y': self.data[i, j+self.input_steps:j+self.input_steps+self.future_steps]}\n",
    "        return self.data[i, j:j+self.input_steps], self.data[i, j+self.input_steps:j+self.input_steps+self.future_steps]"
   ]
  },
  {
   "cell_type": "code",
   "execution_count": 3,
   "metadata": {},
   "outputs": [
    {
     "name": "stderr",
     "output_type": "stream",
     "text": [
      "/home/nimahsn/anaconda3/envs/jax/lib/python3.12/site-packages/scipy/io/matlab/_mio.py:227: MatReadWarning: Duplicate variable name \"None\" in stream - replacing previous with new\n",
      "Consider mio5.varmats_from_mat to split file into single variable files\n",
      "  matfile_dict = MR.get_variables(variable_names)\n"
     ]
    }
   ],
   "source": [
    "dataset = BurgersDataset('datasets/burgers_v100_t100_r1024_N2048.mat', 5, 5, jax.random.PRNGKey(42))"
   ]
  },
  {
   "cell_type": "code",
   "execution_count": 4,
   "metadata": {},
   "outputs": [],
   "source": [
    "loader = DataLoader(dataset, batch_size=64, collate_fn=jax_collate, shuffle=True)"
   ]
  },
  {
   "cell_type": "code",
   "execution_count": 5,
   "metadata": {},
   "outputs": [],
   "source": [
    "@partial(eqx.filter_vmap, in_axes=(None, 0, 0))\n",
    "def loss_fn(model, data, label):\n",
    "    out = model(data)\n",
    "    return optax.l2_loss(out, label)\n",
    "\n",
    "def train(model: 'eqx.Module', dataloader: 'DataLoader', optimizer: optax.GradientTransformation, n_epochs, opt_state=None, history: dict=None, print_every_steps=2000):\n",
    "    if opt_state is None:\n",
    "        opt_state = optimizer.init(eqx.filter(model, eqx.is_array))\n",
    "    if history is None:\n",
    "        history = {'loss': []}\n",
    "\n",
    "    loss_f = eqx.filter_value_and_grad(lambda model, data, labels: jnp.mean(loss_fn(model, data, labels)), )\n",
    "        \n",
    "    @eqx.filter_jit\n",
    "    def train_step(model, data, labels, opt_state):\n",
    "        loss, grads = loss_f(model, data, labels)\n",
    "        updates, opt_state = optimizer.update(grads, opt_state, model)\n",
    "        model = eqx.apply_updates(model, updates)\n",
    "        return model, opt_state, loss\n",
    "        \n",
    "    for epoch in range(n_epochs):\n",
    "        for step, batch in enumerate(dataloader):\n",
    "            data, labels = batch\n",
    "            model, opt_state, loss = train_step(model, data, labels, opt_state)\n",
    "            history['loss'].append(loss)\n",
    "            if step % print_every_steps == 0:\n",
    "                print(f'Epoch {epoch}, Step {step}, Loss {loss}')\n",
    "                \n",
    "    return model, opt_state, history"
   ]
  },
  {
   "cell_type": "code",
   "execution_count": 6,
   "metadata": {},
   "outputs": [],
   "source": [
    "in_channels = [10, 32, 64, 64]\n",
    "out_channels = [32, 64, 64, 64]\n",
    "key = jax.random.PRNGKey(43)\n",
    "keys = jax.random.split(key, 8)\n",
    "activation = jax.nn.gelu\n",
    "modes = 16\n",
    "\n",
    "input_projection = eqx.nn.Sequential([\n",
    "    eqx.nn.Conv1d(5, 10, 1, 1, 0, key=keys[0]),\n",
    "    eqx.nn.Conv1d(10, 10, 1, 1, 0, key=keys[1])\n",
    "])\n",
    "fourier_blocks = eqx.nn.Sequential([FNOBlock1d(in_channels[i], out_channels[i], modes, activation, keys[i + 2]) for i in range(4)])\n",
    "output_projection = eqx.nn.Sequential([\n",
    "    eqx.nn.Conv1d(64, 64, 1, 1, 0, key=keys[-2]),\n",
    "    eqx.nn.Conv1d(64, 5, 1, 1, 0, key=keys[-1])\n",
    "])\n",
    "fno = FNO(5, 5, fourier_blocks, input_projection, output_projection)\n",
    "\n",
    "lr_scheduler = optax.schedules.exponential_decay(1e-3, 500, 0.9)\n",
    "optimizer = optax.adam(lr_scheduler)"
   ]
  },
  {
   "cell_type": "code",
   "execution_count": 7,
   "metadata": {},
   "outputs": [
    {
     "name": "stdout",
     "output_type": "stream",
     "text": [
      "Epoch 0, Step 0, Loss 0.023738935589790344\n",
      "Epoch 0, Step 2000, Loss 1.1456663884246154e-07\n"
     ]
    }
   ],
   "source": [
    "model, opt_state, history = train(fno, loader, optimizer, 10)"
   ]
  },
  {
   "cell_type": "code",
   "execution_count": null,
   "metadata": {},
   "outputs": [],
   "source": []
  }
 ],
 "metadata": {
  "kernelspec": {
   "display_name": "jax",
   "language": "python",
   "name": "python3"
  },
  "language_info": {
   "codemirror_mode": {
    "name": "ipython",
    "version": 3
   },
   "file_extension": ".py",
   "mimetype": "text/x-python",
   "name": "python",
   "nbconvert_exporter": "python",
   "pygments_lexer": "ipython3",
   "version": "3.12.3"
  }
 },
 "nbformat": 4,
 "nbformat_minor": 2
}
